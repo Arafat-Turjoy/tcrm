{
 "cells": [
  {
   "cell_type": "markdown",
   "metadata": {},
   "source": [
    "# Comparison of TC hazard assessments\n",
    "\n",
    "This notebook provides an interface to compare the TCHA 2018 with the existing benchmark hazard assessment (published in 2015). \n",
    "\n",
    "The new hazard assessment takes advantage of several upgrades to the underlying TCRM system, including a shift to indivisual events (enabling use of the Generalised Pareto Distribution over the Generalised Extreme Value distribution), a parametric model of radius to maximum wind and refinement of the landfall decay model to better suit observed decay rates in Australia. \n",
    "\n"
   ]
  },
  {
   "cell_type": "code",
   "execution_count": null,
   "metadata": {},
   "outputs": [],
   "source": [
    "%matplotlib inline\n",
    "from __future__ import print_function, division"
   ]
  },
  {
   "cell_type": "code",
   "execution_count": null,
   "metadata": {},
   "outputs": [],
   "source": [
    "import os\n",
    "from os.path import join as pjoin\n",
    "import numpy as np\n",
    "import matplotlib.pyplot as plt\n",
    "import matplotlib.cm as cm\n",
    "from matplotlib.collections import LineCollection\n",
    "from matplotlib.ticker import MultipleLocator\n",
    "from matplotlib.colors import BoundaryNorm, ListedColormap\n",
    "from matplotlib.lines import Line2D\n",
    "\n",
    "import cartopy.crs as ccrs\n",
    "import cartopy.feature as feature\n",
    "import shapely.geometry as sg\n",
    "\n",
    "\n",
    "from netCDF4 import Dataset\n",
    "\n",
    "from Utilities.config import ConfigParser\n",
    "import seaborn as sns\n",
    "sns.set_context(\"poster\")\n",
    "sns.set_style(\"whitegrid\")"
   ]
  },
  {
   "cell_type": "markdown",
   "metadata": {},
   "source": [
    "Start by setting the path to the hazard data for each assessment. We're primarily interested in the AEP wind speeds, so we point to the netCDF file holding the AEP wind speed data. "
   ]
  },
  {
   "cell_type": "code",
   "execution_count": null,
   "metadata": {},
   "outputs": [],
   "source": [
    "tcha1_path = \"/g/data/fj6/TCRM/benchmark/hazard/hazard.nc\"\n",
    "tcha2_path = \"/g/data/fj6/TCRM/TCHA18/hazard/hazard_emp.nc\"\n",
    "\n",
    "tcha1 = Dataset(tcha1_path, 'r')\n",
    "tcha2 = Dataset(tcha2_path, 'r')"
   ]
  },
  {
   "cell_type": "markdown",
   "metadata": {},
   "source": [
    "Define functions to help intersect the different domains for the hazard assessments. The first TCHA had a larger extent, going well into the South Pacific Ocean (180E). "
   ]
  },
  {
   "cell_type": "code",
   "execution_count": null,
   "metadata": {},
   "outputs": [],
   "source": [
    "def getExtent(ncobj):\n",
    "    lon = ncobj.variables['lon'][:]\n",
    "    lat = ncobj.variables['lat'][:]\n",
    "    return (np.min(lon), np.max(lon), np.min(lat), np.max(lat))\n",
    "\n",
    "def intersectDomain(ncobj1, ncobj2):\n",
    "    lon1 = ncobj1.variables['lon'][:]\n",
    "    lat1 = ncobj1.variables['lat'][:]\n",
    "    lon2 = ncobj2.variables['lon'][:]\n",
    "    lat2 = ncobj2.variables['lat'][:]\n",
    "    extents1 = getExtent(ncobj1)\n",
    "    extents2 = getExtent(ncobj2)\n",
    "    \n",
    "    idx1 = np.where((lon1 <= extents2[1]) & (lon1 >= extents2[0]))[0]\n",
    "    jdy1 = np.where((lat1 <= extents2[3]) & (lat1 >= extents2[2]))[0]\n",
    "    idx2 = np.where((lon2 <= extents1[1]) & (lon2 >= extents1[0]))[0]\n",
    "    jdy2 = np.where((lat2 <= extents1[3]) & (lat2 >= extents1[2]))[0]\n",
    "    return idx1, jdy1, idx2, jdy2"
   ]
  },
  {
   "cell_type": "code",
   "execution_count": null,
   "metadata": {},
   "outputs": [],
   "source": [
    "idx1, jdy1, idx2, jdy2 = intersectDomain(tcha1, tcha2)\n",
    "lon1 = tcha1.variables['lon'][:]\n",
    "lat1 = tcha1.variables['lat'][:]\n",
    "lon2 = tcha2.variables['lon'][:]\n",
    "lat2 = tcha2.variables['lat'][:]"
   ]
  },
  {
   "cell_type": "code",
   "execution_count": null,
   "metadata": {},
   "outputs": [],
   "source": [
    "xgrid1, ygrid1 = np.meshgrid(lon1[idx1], lat1[jdy1])\n",
    "xgrid2, ygrid2 = np.meshgrid(lon2[idx2], lat2[jdy2])"
   ]
  },
  {
   "cell_type": "code",
   "execution_count": null,
   "metadata": {},
   "outputs": [],
   "source": [
    "wspd1 = tcha1.variables['wspd'][:, jdy1, idx1]\n",
    "wspd2 = np.fliplr(tcha2.variables['wspd'][:, jdy2, idx2])\n",
    "wspddiff = wspd2 - wspd1"
   ]
  },
  {
   "cell_type": "code",
   "execution_count": null,
   "metadata": {},
   "outputs": [],
   "source": [
    "tindex = 6\n",
    "ax = plt.axes(projection=ccrs.PlateCarree())\n",
    "cs = ax.contourf(xgrid1, ygrid1, wspddiff[tindex, :, :], np.arange(-20, 20.1, 1.), \n",
    "                 cmap='RdBu_r', extend=\"both\")\n",
    "cl = ax.contour(xgrid1, ygrid1, wspddiff[tindex, :, :],[-15, -10, -5, 0,5, 10, 15], linewidths=0.5, colors='k')\n",
    "ax.coastlines(resolution='50m', color='black', linewidth=1)\n",
    "plt.colorbar(cs, orientation=\"horizontal\", label=\"Wind speed (m/s)\")\n",
    "plt.clabel(cl, fmt=\"%0.1f\",fontsize='xx-small')\n",
    "xlocator = MultipleLocator(10)\n",
    "ylocator = MultipleLocator(5)\n",
    "gl = ax.gridlines(linestyle=\":\", color='k', draw_labels=True, xlocs=xlocator, ylocs=ylocator)\n",
    "gl.xlabels_top = False\n",
    "gl.ylabels_right = False\n",
    "years = tcha1.variables['return_period'][:]\n",
    "aep = 1./years[tindex]\n",
    "ax.set_title(\"{0:.2f}% AEP wind speed difference\\n(V2 - V1)\".format(aep*100.))\n"
   ]
  },
  {
   "cell_type": "markdown",
   "metadata": {},
   "source": [
    "Overall, a decrease in wind hazard over the ocean areas to Australia's east and west. Over Australia, the hazard is reduced, in line with the expected behaviour following refinement of the landfall decay model. There is little change in hazard over the Top End (wester part of NT), aligning with a zone of comparatively lower hazard present in both TCHA V1 and V2. "
   ]
  },
  {
   "cell_type": "code",
   "execution_count": null,
   "metadata": {},
   "outputs": [],
   "source": [
    "ax = plt.axes(projection=ccrs.PlateCarree())\n",
    "cs = ax.contourf(xgrid1, ygrid1, 100.*(wspddiff[tindex, :, :]/wspd2[tindex, :, :]), np.arange(-40, 40.1, 5.), \n",
    "                 cmap='RdBu_r', extend='both')\n",
    "cl = ax.contour(xgrid1, ygrid1, 100.*(wspddiff[tindex, :, :]/wspd2[tindex, :, :]),[-15, -10, -5, 0,5, 10, 15], linewidths=0.5, colors='k')\n",
    "ax.coastlines(resolution='50m', color='black', linewidth=1)\n",
    "plt.colorbar(cs, orientation=\"horizontal\", label=\"Percentage change\")\n",
    "plt.clabel(cl, fmt=\"%0.1f\",fontsize='xx-small')\n",
    "xlocator = MultipleLocator(10)\n",
    "ylocator = MultipleLocator(5)\n",
    "gl = ax.gridlines(linestyle=\":\", color='k', draw_labels=True, xlocs=xlocator, ylocs=ylocator)\n",
    "gl.xlabels_top = False\n",
    "gl.ylabels_right = False\n",
    "ax.set_title(\"{0:.2f}% AEP wind speed relative change\\n(V2 - V1)/V2\".format(aep*100.))"
   ]
  },
  {
   "cell_type": "code",
   "execution_count": null,
   "metadata": {},
   "outputs": [],
   "source": [
    "import io\n",
    "import database\n",
    "import pandas as pd\n",
    "\n",
    "\n",
    "from Utilities.config import ConfigParser\n",
    "from Utilities.maputils import find_index\n",
    "from ipywidgets import interact, fixed, Dropdown, FloatSlider, interact_manual, interactive\n",
    "import ipywidgets as widgets\n",
    "from IPython.display import display, Image\n",
    "\n",
    "import seaborn as sns\n",
    "sns.set_context(\"poster\")\n",
    "sns.set_style(\"whitegrid\")"
   ]
  },
  {
   "cell_type": "code",
   "execution_count": null,
   "metadata": {},
   "outputs": [],
   "source": [
    "configstr = \"\"\"\n",
    "[DataProcess]\n",
    "InputFile=/home/547/cxa547/tcrm/input/Allstorms.ibtracs_wmo.v03r09.csv\n",
    "Source=IBTRACS\n",
    "StartSeason=1981\n",
    "FilterSeasons=False\n",
    "\n",
    "[Region]\n",
    "; Domain for windfield and hazard calculation\n",
    "gridLimit={'xMin':175.,'xMax':185.,'yMin':-23.0,'yMax':-13.0}\n",
    "gridSpace={'x':1.0,'y':1.0}\n",
    "gridInc={'x':1.0,'y':0.5}\n",
    "\n",
    "[TrackGenerator]\n",
    "NumSimulations=10000\n",
    "YearsPerSimulation=1\n",
    "SeasonSeed=68876543\n",
    "TrackSeed=334825\n",
    "TimeStep=1.0\n",
    "\n",
    "[Input]\n",
    "landmask = /home/547/cxa547/tcrm/input/landmask.nc\n",
    "mslpfile = /home/547/cxa547/tcrm/MSLP/slp.day.ltm.nc\n",
    "datasets = IBTRACS,LTMSLP\n",
    "\n",
    "[Output]\n",
    "Path=/g/data/fj6/TCRM/TCHA18/\n",
    "\n",
    "[Hazard]\n",
    "Years=2,5,10,20,25,50,100,200,250,500,1000,2000,2500,5000\n",
    "MinimumRecords=10\n",
    "CalculateCI=False\n",
    "\n",
    "[Logging]\n",
    "LogFile=/g/data/w85/TCRM_data/tcrm2.1/log/tcrm2.1.log\n",
    "LogLevel=INFO\n",
    "Verbose=False\n",
    "\n",
    "[IBTRACS]\n",
    "; Input data file settings\n",
    "url = ftp://eclipse.ncdc.noaa.gov/pub/ibtracs/v03r06/wmo/csv/Allstorms.ibtracs_wmo.v03r09.csv.gz\n",
    "path = /home/547/cxa547/tcrm/input/\n",
    "filename = Allstorms.ibtracs_wmo.v03r09.csv\n",
    "columns = tcserialno,season,num,skip,skip,skip,date,skip,lat,lon,skip,pressure\n",
    "fielddelimiter = ,\n",
    "numberofheadinglines = 3\n",
    "pressureunits = hPa\n",
    "lengthunits = km\n",
    "dateformat = %Y-%m-%d %H:%M:%S\n",
    "speedunits = kph\n",
    "\n",
    "[LTMSLP]\n",
    "; MSLP climatology file settings\n",
    "URL = ftp://ftp.cdc.noaa.gov/Datasets/ncep.reanalysis.derived/surface/slp.day.1981-2010.ltm.nc\n",
    "path = /home/547/cxa547/tcrm/MSLP\n",
    "filename = slp.day.ltm.nc\n",
    "\n",
    "[Process]\n",
    "DatFile=/g/data/w85/TCRM_data/tcrm-v2/process/dat/tcrm-v2.dat\n",
    "ExcludePastProcessed=False\n",
    "\"\"\""
   ]
  },
  {
   "cell_type": "code",
   "execution_count": null,
   "metadata": {},
   "outputs": [],
   "source": [
    "config = ConfigParser()\n",
    "config.readfp(io.BytesIO(configstr))\n",
    "\n",
    "db = database.HazardDatabase(configstr)\n",
    "locations = db.getLocations()\n",
    "locNameList = list(locations['locName'])\n",
    "outputPath = config.get('Output', 'Path')\n",
    "years = tcha1.variables['return_period'][:]"
   ]
  },
  {
   "cell_type": "code",
   "execution_count": null,
   "metadata": {},
   "outputs": [],
   "source": [
    "from PlotInterface.curves import SemilogRangeCompareCurve, saveFigure\n",
    "def plotHazardCurve(locName):\n",
    "    locId = locations['locId'][locations['locName']==locName][0]\n",
    "    locLon = locations['locLon'][locations['locId']==locId][0]\n",
    "    locLat = locations['locLat'][locations['locId']==locId][0]\n",
    "\n",
    "    i1 = find_index(lon1[idx1], locLon)\n",
    "    j1 = find_index(lat1[jdy1], locLat)\n",
    "    i2 = find_index(lon2[idx2], locLon)\n",
    "    j2 = find_index(lat2[-jdy2], locLat)\n",
    "\n",
    "    h1 = wspd1[:, j1, i1]\n",
    "    h2 = wspd2[:, j2, i2]\n",
    "    fig, ax = plt.subplots()\n",
    "    ax.semilogx(years, h1, label=\"TCHA 2014\", color=\"#006983\")\n",
    "    ax.semilogx(years, h2, label=\"TCHA 2018\", color=\"#A33F1F\")\n",
    "    ax.set_xlabel(\"Average recurrence interval (years)\")\n",
    "    ax.set_ylabel(\"Wind speed (m/s)\")\n",
    "    ax.set_title(r\"{0} ({1:.2f}$^\\circ$S, {2:.2f}$^\\circ$E)\".format(locName, locLat, locLon))\n",
    "    ax.legend(loc=2, fancybox=True)\n",
    "    ax.grid(which=\"both\", linestyle=\"--\")\n",
    "    ax.set_ylim((0, 100))\n",
    "    plt.savefig(pjoin(outputPath, \"plots/hazard/comparison\", \"{0}.png\".format(locId)))\n",
    "    plt.show()\n",
    "    "
   ]
  },
  {
   "cell_type": "code",
   "execution_count": null,
   "metadata": {},
   "outputs": [],
   "source": [
    "w = interactive(plotHazardCurve, \n",
    "                locName=Dropdown(options=locNameList,\n",
    "                                 description=\"Location\"),\n",
    "               )\n",
    "display(w)"
   ]
  },
  {
   "cell_type": "code",
   "execution_count": null,
   "metadata": {},
   "outputs": [],
   "source": []
  }
 ],
 "metadata": {
  "kernelspec": {
   "display_name": "Python 2",
   "language": "python",
   "name": "python2"
  },
  "language_info": {
   "codemirror_mode": {
    "name": "ipython",
    "version": 2
   },
   "file_extension": ".py",
   "mimetype": "text/x-python",
   "name": "python",
   "nbconvert_exporter": "python",
   "pygments_lexer": "ipython2",
   "version": "2.7.11"
  }
 },
 "nbformat": 4,
 "nbformat_minor": 0
}
