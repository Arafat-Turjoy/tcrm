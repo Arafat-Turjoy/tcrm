{
 "cells": [
  {
   "cell_type": "markdown",
   "metadata": {},
   "source": [
    "# Empirical return period uncertainty\n",
    "\n",
    "The TCHA provides a catalogue of 10,000 years of TC activity. This can be considered a large number of observations, compared to the average recurrence intervals that are normally considered for TC-related winds (e.g. 100-, 200-, 500-year ARIs).\n",
    "\n",
    "Therefore, we can use the simulated wind speed values to directly estimate the ARI wind speeds, without needing to fit extreme value distributions - something that is necessary when using observed wind speeds with record lengths of only around 50 years.\n",
    "\n",
    "Here, we calculate the empirical ARI wind speeds from the synthetic catalogue, but do so in a manner that explores the range of values at these ARIs.\n",
    "\n",
    "Essentially, we subsample the 10,000 year catalogue into smaller collections, then calculate the empirical ARIs from these smaller collections. The range of ARI wind speed values from these subsampled collections then gives us a guide on the convergence of these values in the full collection.\n"
   ]
  },
  {
   "cell_type": "code",
   "execution_count": null,
   "metadata": {},
   "outputs": [],
   "source": [
    "%matplotlib notebook\n",
    "from __future__ import print_function, division\n",
    "import os\n",
    "import io\n",
    "import sys\n",
    "\n",
    "import database\n",
    "import numpy as np\n",
    "import matplotlib.pyplot as plt\n",
    "from matplotlib.ticker import LogLocator, FormatStrFormatter\n",
    "from ipywidgets import interact, fixed, Dropdown, FloatSlider, interactive, interact_manual\n",
    "import ipywidgets as widgets\n",
    "from IPython.display import display\n",
    "\n",
    "from Utilities.config import ConfigParser\n",
    "\n",
    "from extremes import returnLevels, empReturnPeriod, returnPeriodUncertainty, gpdSelectThreshold\n",
    "from distributions import fittedPDF\n",
    "\n",
    "import random\n",
    "\n",
    "import seaborn as sns\n",
    "sns.set_context(\"poster\")\n",
    "sns.set_style(\"whitegrid\")"
   ]
  },
  {
   "cell_type": "markdown",
   "metadata": {},
   "source": [
    "Load the configuration file from the TCHA18, then open the database and get teh list of available locations. "
   ]
  },
  {
   "cell_type": "code",
   "execution_count": null,
   "metadata": {},
   "outputs": [],
   "source": [
    "configFile = \"/g/data/fj6/TCRM/TCHA18/tcrm2.1.ini\"\n",
    "config = ConfigParser()\n",
    "config.read(configFile)\n",
    "outputPath = config.get('Output', 'Path')\n",
    "NumSimulations = config.getint('TrackGenerator', 'NumSimulations')\n",
    "\n",
    "db = database.HazardDatabase(configFile)\n",
    "locations = db.getLocations()\n",
    "locNameList = list(locations['locName'])\n",
    "l = Dropdown(options=locNameList, description=\"Location\")"
   ]
  },
  {
   "cell_type": "markdown",
   "metadata": {},
   "source": [
    "The following step performs the calculations. First a helper function to add nicely formatted grid lines on a logarithmic axis.\n",
    "\n",
    "The second function (`plotConvergenceTest`) loads the data from the database, then splits into two separate collections (called `d1` and `d2`). For each of these, we then calculate empirical ARI values and plot alongside each other. "
   ]
  },
  {
   "cell_type": "code",
   "execution_count": null,
   "metadata": {},
   "outputs": [],
   "source": [
    "def addGrid(axes):\n",
    "    \"\"\"\n",
    "    Add a logarithmic graticule to the subplot axes.\n",
    "    :param axes: :class:`axes` instance.\n",
    "    \"\"\"\n",
    "\n",
    "    axes.xaxis.set_major_locator(LogLocator())\n",
    "    axes.xaxis.set_major_formatter(FormatStrFormatter('%d'))\n",
    "    axes.xaxis.set_minor_locator(LogLocator(subs=[.1, .2, .3, .4, .5, .6, .7, .8, .9]))\n",
    "    axes.autoscale(True, axis='x', tight=True)\n",
    "    axes.grid(True, which='major', linestyle='-', linewidth=0.5)\n",
    "    axes.grid(True, which='minor', linestyle='-', linewidth=0.5)\n",
    "    \n",
    "def plotConvergenceTest(locName):\n",
    "    locId = locations['locId'][locations['locName']==locName][0]\n",
    "    locLon = locations['locLon'][locations['locId']==locId][0]\n",
    "    locLat = locations['locLat'][locations['locId']==locId][0]\n",
    "\n",
    "    records = database.locationRecords(db, locId)\n",
    "    recs = records['wspd'][records['wspd'] > 0]\n",
    "    data = np.zeros(int(NumSimulations*365.25))\n",
    "    data[-len(recs):] = recs\n",
    "\n",
    "    random.shuffle(data)\n",
    "    d1 = data[:int(len(data)/2)]\n",
    "    d2 = data[int(len(data)/2+1):]\n",
    "    sortedmax1 = np.sort(d1)\n",
    "    sortedmax2 = np.sort(d2)\n",
    "    emprp1 = empReturnPeriod(d1)\n",
    "    emprp2 = empReturnPeriod(d2)\n",
    "    fig, ax1 = plt.subplots(1, 1)\n",
    "    ax1.semilogx(emprp2[emprp2> 1], sortedmax2[emprp2 > 1])\n",
    "    ax1.semilogx(emprp1[emprp1> 1], sortedmax1[emprp1 > 1], color='r', label=\"Empirical ARI\")\n",
    "    ax1.set_xscale('log')\n",
    "\n",
    "    xlabel = 'Average recurrence interval (years)'\n",
    "    ylabel = 'Wind speed (m/s)'\n",
    "    title = \"ARI wind speeds at \" + locName + \", \\n(%5.2f,%5.2f, n=%d)\"%(locLon, locLat, len(recs))\n",
    "    ax1.set_xlabel(xlabel)\n",
    "    ax1.set_ylabel(ylabel)\n",
    "    ax1.set_title(title)\n",
    "    addGrid(ax1)\n"
   ]
  },
  {
   "cell_type": "markdown",
   "metadata": {},
   "source": [
    "Run the next cell, then select a location from the dropdown list and click the `\"Run plotConvergenceTest\"` button. This will take a minute or so to run, as it needs to extract all the values from the database, which is a significant number of events when there's 10,000 years of events."
   ]
  },
  {
   "cell_type": "code",
   "execution_count": null,
   "metadata": {},
   "outputs": [],
   "source": [
    "interact_manual(plotConvergenceTest, locName=l, manual_name=\"Run\")"
   ]
  },
  {
   "cell_type": "code",
   "execution_count": null,
   "metadata": {},
   "outputs": [],
   "source": []
  }
 ],
 "metadata": {
  "kernelspec": {
   "display_name": "Python 2",
   "language": "python",
   "name": "python2"
  },
  "language_info": {
   "codemirror_mode": {
    "name": "ipython",
    "version": 2
   },
   "file_extension": ".py",
   "mimetype": "text/x-python",
   "name": "python",
   "nbconvert_exporter": "python",
   "pygments_lexer": "ipython2",
   "version": "2.7.11"
  }
 },
 "nbformat": 4,
 "nbformat_minor": 0
}
